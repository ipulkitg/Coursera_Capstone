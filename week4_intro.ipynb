{
  "nbformat": 4,
  "nbformat_minor": 0,
  "metadata": {
    "colab": {
      "name": "week4_intro.ipynb",
      "provenance": [],
      "collapsed_sections": [],
      "authorship_tag": "ABX9TyOM9xv02H8DYFacnBEX7M+1",
      "include_colab_link": true
    },
    "kernelspec": {
      "name": "python3",
      "display_name": "Python 3"
    }
  },
  "cells": [
    {
      "cell_type": "markdown",
      "metadata": {
        "id": "view-in-github",
        "colab_type": "text"
      },
      "source": [
        "<a href=\"https://colab.research.google.com/github/ipulkitg/Coursera_Capstone/blob/main/week4_intro.ipynb\" target=\"_parent\"><img src=\"https://colab.research.google.com/assets/colab-badge.svg\" alt=\"Open In Colab\"/></a>"
      ]
    },
    {
      "cell_type": "markdown",
      "metadata": {
        "id": "EQ8l5XqILHST"
      },
      "source": [
        "#The Battle of Neighborhoods  \r\n",
        "###Business Proposal | Introduction\r\n",
        "\r\n",
        "**Introduction:**\r\n",
        "\r\n",
        "Varanasi is a city in the northern Indian state of Uttar Pradesh dating to the 11th century B.C. Regarded as the spiritual capital of India, the city draws Hindu pilgrims who bathe in the Ganges River’s sacred waters and perform funeral rites. Along the city's winding streets are some 2,000 temples, including Kashi Vishwanath, the “Golden Temple,” dedicated to the Hindu god Shiva. This results in a lot of tourists visiting this city.\r\n",
        "\r\n",
        "The aim of the project is to identify venues in varanasi, India based on their rating and average prices. In this project, we will identify various venues in the city of varanasi, India, using Foursquare API and Zomato API, to help visitors select the restaurants that suit them the best.\r\n",
        "\r\n",
        "Whenever a user is visiting a city they start looking for places to visit during their stay. They primarily look for places based on the venue ratings across all venues and the average prices such that the locations fits in their budget.\r\n",
        "\r\n",
        "Here, we'll identify places that are fit for various individuals based on the information collected from the two APIs and Data Science. Once we have the plot with the venues, any company can launch an application using the same data and suggest users such information.\r\n",
        "\r\n",
        "\r\n",
        "**Foursquare API:**\r\n",
        "\r\n",
        "This project would use Four-square API as its prime data gathering source as it has a database of millions of places, especially their places API which provides the ability to perform location search, location sharing and details about a business.\r\n",
        "\r\n",
        "\r\n",
        "\r\n",
        "**Libraries Which are Used to Develope the Project:**\r\n",
        "\r\n",
        "*Pandas:* For creating and manipulating dataframes.\r\n",
        "\r\n",
        "*Folium:* Python visualization library would be used to visualize the neighborhoods cluster distribution of using interactive leaflet map.\r\n",
        "\r\n",
        "*Scikit Learn:* For importing k-means clustering.\r\n",
        "\r\n",
        "*JSON:* Library to handle JSON files.\r\n",
        "\r\n",
        "*XML:* To separate data from presentation and XML stores data in plain text format.\r\n",
        "\r\n",
        "*Geocoder:* To retrieve Location Data.\r\n",
        "\r\n",
        "*Beautiful Soup and Requests:* To scrap and library to handle http requests.\r\n",
        "\r\n",
        "*Matplotlib:* Python Plotting Module."
      ]
    },
    {
      "cell_type": "code",
      "metadata": {
        "id": "Jqmbe6NbOZ7l"
      },
      "source": [
        ""
      ],
      "execution_count": null,
      "outputs": []
    }
  ]
}