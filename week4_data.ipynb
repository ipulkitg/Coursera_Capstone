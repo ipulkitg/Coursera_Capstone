{
  "nbformat": 4,
  "nbformat_minor": 0,
  "metadata": {
    "colab": {
      "name": "week4_data.ipynb",
      "provenance": [],
      "collapsed_sections": [],
      "authorship_tag": "ABX9TyNXUN13lYmElWpVi3KfKYgm",
      "include_colab_link": true
    },
    "kernelspec": {
      "name": "python3",
      "display_name": "Python 3"
    }
  },
  "cells": [
    {
      "cell_type": "markdown",
      "metadata": {
        "id": "view-in-github",
        "colab_type": "text"
      },
      "source": [
        "<a href=\"https://colab.research.google.com/github/ipulkitg/Coursera_Capstone/blob/main/week4_data.ipynb\" target=\"_parent\"><img src=\"https://colab.research.google.com/assets/colab-badge.svg\" alt=\"Open In Colab\"/></a>"
      ]
    },
    {
      "cell_type": "markdown",
      "metadata": {
        "id": "0HvT9orqQ7VB"
      },
      "source": [
        "#The Battle of Neighborhoods \r\n",
        "###Data Description:\r\n",
        "\r\n",
        "To begin with, we will take a look at varanasi on the Map using the folium library.\r\n",
        "\r\n",
        "Then, we will fetch the data from two different APIs  and then combine the following data into one single dataset.\r\n",
        "\r\n",
        "**Foursquare API Data:**\r\n",
        "\r\n",
        "We will need data about different venues in different neighborhoods of that specific borough. In order to gain that information we will use \"Foursquare\" locational information. Foursquare is a location data provider with information about all manner of venues and events within an area of interest. Such information includes venue names, locations, menus and even photos. As such, the foursquare location platform will be used as the sole data source since all the stated required information can be obtained through the API.\r\n",
        "\r\n",
        "After finding the list of neighborhoods, we then connect to the Foursquare API to gather information about venues inside each and every neighborhood.\r\n",
        "\r\n",
        "The data retrieved from Foursquare contained information of venues within a specified distance of the longitude and latitude.\r\n",
        "\r\n",
        "**ZOMATO API Data**\r\n",
        "\r\n",
        "Zomato APIs give you access to the freshest and most exhaustive information for over 1.5 million restaurants across 10,000 cities globally. With the Zomato APIs, you can: Search for restaurants by name, cuisine, or location. Display detailed information including ratings, location and cuisine."
      ]
    },
    {
      "cell_type": "code",
      "metadata": {
        "id": "nOq-n1FbQxEB"
      },
      "source": [
        ""
      ],
      "execution_count": null,
      "outputs": []
    }
  ]
}